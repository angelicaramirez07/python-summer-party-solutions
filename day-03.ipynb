{
  "cells": [
    {
      "cell_type": "markdown",
      "metadata": {},
      "source": [
        "# Day 3: Disney Parks Guest Spending Behavior"
      ]
    },
    {
      "cell_type": "markdown",
      "metadata": {},
      "source": [
        "You are a data analyst working with the Disney Parks revenue team to understand nuanced guest spending patterns across different park experiences. The team wants to develop a comprehensive view of visitor purchasing behaviors. Your goal is to uncover meaningful insights that can drive personalized marketing strategies."
      ]
    },
    {
      "cell_type": "code",
      "metadata": {},
      "execution_count": null,
      "outputs": [],
      "source": "import pandas as pd\nimport numpy as np\n\nfct_guest_spending_data = [\n  {\n    \"guest_id\": 1,\n    \"visit_date\": \"2024-07-05\",\n    \"amount_spent\": 50,\n    \"park_experience_type\": \"Attraction\"\n  },\n  {\n    \"guest_id\": 2,\n    \"visit_date\": \"2024-07-06\",\n    \"amount_spent\": 30,\n    \"park_experience_type\": \"Dining\"\n  },\n  {\n    \"guest_id\": 3,\n    \"visit_date\": \"2024-07-10\",\n    \"amount_spent\": 20.5,\n    \"park_experience_type\": \"Retail\"\n  },\n  {\n    \"guest_id\": 4,\n    \"visit_date\": \"2024-07-12\",\n    \"amount_spent\": 40,\n    \"park_experience_type\": \"Entertainment\"\n  },\n  {\n    \"guest_id\": 1,\n    \"visit_date\": \"2024-07-15\",\n    \"amount_spent\": 35,\n    \"park_experience_type\": \"Dining\"\n  },\n  {\n    \"guest_id\": 5,\n    \"visit_date\": \"2024-07-20\",\n    \"amount_spent\": 60,\n    \"park_experience_type\": \"Attraction\"\n  },\n  {\n    \"guest_id\": 6,\n    \"visit_date\": \"2024-07-25\",\n    \"amount_spent\": 25,\n    \"park_experience_type\": \"Retail\"\n  },\n  {\n    \"guest_id\": 1,\n    \"visit_date\": \"2024-08-03\",\n    \"amount_spent\": 55,\n    \"park_experience_type\": \"Attraction\"\n  },\n  {\n    \"guest_id\": 1,\n    \"visit_date\": \"2024-08-15\",\n    \"amount_spent\": 45,\n    \"park_experience_type\": \"Dining\"\n  },\n  {\n    \"guest_id\": 2,\n    \"visit_date\": \"2024-08-05\",\n    \"amount_spent\": 22,\n    \"park_experience_type\": \"Retail\"\n  },\n  {\n    \"guest_id\": 2,\n    \"visit_date\": \"2024-08-20\",\n    \"amount_spent\": 38,\n    \"park_experience_type\": \"Entertainment\"\n  },\n  {\n    \"guest_id\": 7,\n    \"visit_date\": \"2024-08-10\",\n    \"amount_spent\": 15,\n    \"park_experience_type\": \"Character Meet\"\n  },\n  {\n    \"guest_id\": 3,\n    \"visit_date\": \"2024-08-25\",\n    \"amount_spent\": 28,\n    \"park_experience_type\": \"Retail\"\n  },\n  {\n    \"guest_id\": 3,\n    \"visit_date\": \"2024-08-27\",\n    \"amount_spent\": 32,\n    \"park_experience_type\": \"Dining\"\n  },\n  {\n    \"guest_id\": 1,\n    \"visit_date\": \"2024-09-02\",\n    \"amount_spent\": 65,\n    \"park_experience_type\": \"Attraction\"\n  },\n  {\n    \"guest_id\": 8,\n    \"visit_date\": \"2024-09-05\",\n    \"amount_spent\": 50,\n    \"park_experience_type\": \"Retail\"\n  },\n  {\n    \"guest_id\": 9,\n    \"visit_date\": \"2024-09-15\",\n    \"amount_spent\": 40,\n    \"park_experience_type\": \"Dining\"\n  },\n  {\n    \"guest_id\": 10,\n    \"visit_date\": \"2024-09-20\",\n    \"amount_spent\": 70,\n    \"park_experience_type\": \"Entertainment\"\n  },\n  {\n    \"guest_id\": 1,\n    \"visit_date\": \"2024-09-25\",\n    \"amount_spent\": 35,\n    \"park_experience_type\": \"Dining\"\n  },\n  {\n    \"guest_id\": 8,\n    \"visit_date\": \"2024-09-28\",\n    \"amount_spent\": 10,\n    \"park_experience_type\": \"Character Meet\"\n  }\n]\nfct_guest_spending = pd.DataFrame(fct_guest_spending_data)\n"
    },
    {
      "cell_type": "markdown",
      "metadata": {},
      "source": [
        "## Question 1\n\nWhat is the average spending per guest per visit for each park experience type during July 2024? Ensure that park experience types with no recorded transactions are shown with an average spending of 0.0. This analysis helps establish baseline spending differences essential for later segmentation."
      ]
    },
    {
      "cell_type": "code",
      "metadata": {},
      "execution_count": null,
      "outputs": [],
      "source": "startOfMonth = fct_guest_spending['visit_date'] >= '2024-07-01'\nendOfMonth = fct_guest_spending['visit_date'] <= '2024-07-31'\n\njulyFilter = fct_guest_spending[startOfMonth & endOfMonth]\n\naverage_spending = julyFilter.groupby(['park_experience_type', 'guest_id']).agg(\n    total_spent=('amount_spent', 'sum'),\n    total_visit=('guest_id', 'count')\n).reset_index()\n\naverage_spending = average_spending.groupby('park_experience_type').agg(\n    total_spent=('total_spent', 'sum'),\n    total_visit=('total_visit', 'sum')\n).reset_index()\n\naverage_spending['average_spending'] = average_spending['total_spent'] / average_spending['total_visit']\n\naverage_spending['average_spending'] = average_spending['average_spending'].fillna(0.0)\n\nall_experience_types = pd.DataFrame({\n    'park_experience_type': ['Attraction', 'Dining', 'Entertainment', 'Retail']\n})\n\nfinal_result = pd.merge(all_experience_types, average_spending[['park_experience_type', 'average_spending']], on=\"park_experience_type\", how='left')\n\nfinal_result['average_spending'] = final_result['average_spending'].fillna(0.0)\n\nprint(final_result)"
    },
    {
      "cell_type": "markdown",
      "metadata": {},
      "source": [
        "## Question 2\n\nFor guests who visited our parks more than once in August 2024, what is the difference in spending between their first and their last visit? This investigation, using sequential analysis, will reveal any shifts in guest spending behavior over multiple visits."
      ]
    },
    {
      "cell_type": "code",
      "metadata": {},
      "execution_count": null,
      "outputs": [],
      "source": "startOfMonth = fct_guest_spending['visit_date'] >= '2024-08-01'\nendOfMonth = fct_guest_spending['visit_date'] <= '2024-08-31'\nmonthFilter = fct_guest_spending[startOfMonth & endOfMonth]\n\nguest_visits = monthFilter.groupby('guest_id').filter(lambda x: len(x) > 1)\nguest_visits = guest_visits.sort_values(by=['guest_id', 'visit_date'])\nfirst_last_spending = guest_visits.groupby('guest_id').agg(\n    first_visit_spending=('amount_spent', 'first'),\n    last_visit_spending=('amount_spent', 'last')\n).reset_index()\nfirst_last_spending['spending_difference'] = first_last_spending['last_visit_spending'] - first_last_spending['first_visit_spending']\nprint(first_last_spending[['guest_id', 'first_visit_spending', 'last_visit_spending', 'spending_difference']])"
    },
    {
      "cell_type": "markdown",
      "metadata": {},
      "source": [
        "## Question 3\n\nIn September 2024, how can guests be categorized into distinct spending segments such as Low, Medium, and High based on their total spending? Use the following thresholds for categorization: \n-Low: Includes values from $0 up to, but not including, $50.\n-Medium: Includes values from $50 up to, but not including, $100.\n-High: Includes values from $100 and above. \nExclude guests who did not make any purchases in the period."
      ]
    },
    {
      "cell_type": "code",
      "metadata": {},
      "execution_count": null,
      "outputs": [],
      "source": "startOfMonth = fct_guest_spending['visit_date'] >= '2024-09-01'\nendOfMonth = fct_guest_spending['visit_date'] <= '2024-09-30'\nseptemberFilter = fct_guest_spending[startOfMonth & endOfMonth]\n\ntotal_spending = septemberFilter.groupby('guest_id').agg(\n    total_spent=('amount_spent', 'sum')\n).reset_index()\n\ntotal_spending = total_spending[total_spending['total_spent'] > 0]\n\ndef categorize_spending(spending):\n    if spending < 50:\n        return 'Low'\n    elif spending < 100:\n        return 'Medium'\n    else:\n        return 'High'\n\ntotal_spending['spending_segment'] = total_spending['total_spent'].apply(categorize_spending)\n\nprint(total_spending[['guest_id', 'total_spent', 'spending_segment']])"
    },
    {
      "cell_type": "markdown",
      "metadata": {},
      "source": [
        "Made with ❤️ by [Interview Master](https://www.interviewmaster.ai)"
      ]
    }
  ],
  "metadata": {
    "kernelspec": {
      "name": "python3",
      "language": "python",
      "display_name": "Python 3"
    },
    "language_info": {
      "name": "python",
      "version": "3",
      "mimetype": "text/x-python",
      "file_extension": ".py"
    }
  },
  "nbformat": 4,
  "nbformat_minor": 5
}
